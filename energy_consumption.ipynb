{
  "nbformat": 4,
  "nbformat_minor": 0,
  "metadata": {
    "colab": {
      "name": "energy_consumption.ipynb",
      "provenance": [],
      "collapsed_sections": [],
      "include_colab_link": true
    },
    "kernelspec": {
      "name": "python3",
      "display_name": "Python 3"
    }
  },
  "cells": [
    {
      "cell_type": "markdown",
      "metadata": {
        "id": "view-in-github",
        "colab_type": "text"
      },
      "source": [
        "<a href=\"https://colab.research.google.com/github/Mindauskas/energy_consumption/blob/master/energy_consumption.ipynb\" target=\"_parent\"><img src=\"https://colab.research.google.com/assets/colab-badge.svg\" alt=\"Open In Colab\"/></a>"
      ]
    },
    {
      "cell_type": "code",
      "metadata": {
        "id": "YhpR-qrgHYWF",
        "colab_type": "code",
        "colab": {
          "base_uri": "https://localhost:8080/",
          "height": 34
        },
        "outputId": "04ae755f-58fa-44e5-dff6-2c956cd487a8"
      },
      "source": [
        "try:\n",
        "   %tensorflow_version 2.x\n",
        "except Exception:\n",
        "   pass"
      ],
      "execution_count": 1,
      "outputs": [
        {
          "output_type": "stream",
          "text": [
            "TensorFlow 2.x selected.\n"
          ],
          "name": "stdout"
        }
      ]
    },
    {
      "cell_type": "code",
      "metadata": {
        "id": "VBUDqH7KpqVW",
        "colab_type": "code",
        "colab": {}
      },
      "source": [
        "%matplotlib inline  "
      ],
      "execution_count": 0,
      "outputs": []
    },
    {
      "cell_type": "code",
      "metadata": {
        "id": "ejRnRZysJv-B",
        "colab_type": "code",
        "colab": {}
      },
      "source": [
        "SETUP = True"
      ],
      "execution_count": 0,
      "outputs": []
    },
    {
      "cell_type": "code",
      "metadata": {
        "id": "2_Fy_vphJFcp",
        "colab_type": "code",
        "outputId": "6dd1015f-e2bc-4708-e0ef-1412190c6c41",
        "colab": {
          "base_uri": "https://localhost:8080/",
          "height": 394
        }
      },
      "source": [
        "if SETUP:\n",
        "  !pip install -q -U toai\n",
        "  !pip install -U kaggle"
      ],
      "execution_count": 4,
      "outputs": [
        {
          "output_type": "stream",
          "text": [
            "\u001b[K     |████████████████████████████████| 153kB 15.1MB/s \n",
            "\u001b[K     |████████████████████████████████| 81kB 11.0MB/s \n",
            "\u001b[K     |████████████████████████████████| 296kB 61.7MB/s \n",
            "\u001b[K     |████████████████████████████████| 122kB 62.8MB/s \n",
            "\u001b[K     |████████████████████████████████| 61kB 6.3MB/s \n",
            "\u001b[?25h  Building wheel for fastparquet (setup.py) ... \u001b[?25l\u001b[?25hdone\n",
            "  Building wheel for thrift (setup.py) ... \u001b[?25l\u001b[?25hdone\n",
            "\u001b[31mERROR: google-colab 1.0.0 has requirement google-auth~=1.4.0, but you'll have google-auth 1.6.3 which is incompatible.\u001b[0m\n",
            "\u001b[31mERROR: google-colab 1.0.0 has requirement requests~=2.21.0, but you'll have requests 2.22.0 which is incompatible.\u001b[0m\n",
            "\u001b[31mERROR: datascience 0.10.6 has requirement folium==0.2.1, but you'll have folium 0.8.3 which is incompatible.\u001b[0m\n",
            "Requirement already up-to-date: kaggle in /usr/local/lib/python3.6/dist-packages (1.5.6)\n",
            "Requirement already satisfied, skipping upgrade: six>=1.10 in /tensorflow-2.0.0/python3.6 (from kaggle) (1.12.0)\n",
            "Requirement already satisfied, skipping upgrade: tqdm in /usr/local/lib/python3.6/dist-packages (from kaggle) (4.28.1)\n",
            "Requirement already satisfied, skipping upgrade: urllib3<1.25,>=1.21.1 in /usr/local/lib/python3.6/dist-packages (from kaggle) (1.24.3)\n",
            "Requirement already satisfied, skipping upgrade: python-slugify in /usr/local/lib/python3.6/dist-packages (from kaggle) (4.0.0)\n",
            "Requirement already satisfied, skipping upgrade: certifi in /tensorflow-2.0.0/python3.6 (from kaggle) (2019.9.11)\n",
            "Requirement already satisfied, skipping upgrade: python-dateutil in /usr/local/lib/python3.6/dist-packages (from kaggle) (2.6.1)\n",
            "Requirement already satisfied, skipping upgrade: requests in /tensorflow-2.0.0/python3.6 (from kaggle) (2.22.0)\n",
            "Requirement already satisfied, skipping upgrade: text-unidecode>=1.3 in /usr/local/lib/python3.6/dist-packages (from python-slugify->kaggle) (1.3)\n",
            "Requirement already satisfied, skipping upgrade: chardet<3.1.0,>=3.0.2 in /tensorflow-2.0.0/python3.6 (from requests->kaggle) (3.0.4)\n",
            "Requirement already satisfied, skipping upgrade: idna<2.9,>=2.5 in /tensorflow-2.0.0/python3.6 (from requests->kaggle) (2.8)\n"
          ],
          "name": "stdout"
        }
      ]
    },
    {
      "cell_type": "code",
      "metadata": {
        "id": "l4sVIk4bJFpm",
        "colab_type": "code",
        "outputId": "f871adf2-5687-40a4-8677-f4a31ea3771d",
        "colab": {
          "base_uri": "https://localhost:8080/",
          "height": 51
        }
      },
      "source": [
        "print(__import__(\"toai\").__version__)\n",
        "print(__import__(\"tensorflow\").__version__)"
      ],
      "execution_count": 5,
      "outputs": [
        {
          "output_type": "stream",
          "text": [
            "0.2.1\n",
            "2.0.0\n"
          ],
          "name": "stdout"
        }
      ]
    },
    {
      "cell_type": "code",
      "metadata": {
        "id": "3-khZncmJFs5",
        "colab_type": "code",
        "colab": {
          "base_uri": "https://localhost:8080/",
          "height": 105
        },
        "outputId": "2b0c041d-0329-4772-9d8d-15d2cd31c7ea"
      },
      "source": [
        "from toai.imports import *\n",
        "from toai.data import DataBundle, DataParams, DataContainer\n",
        "import tensorflow as tf\n",
        "from tensorflow import keras"
      ],
      "execution_count": 6,
      "outputs": [
        {
          "output_type": "stream",
          "text": [
            "/usr/local/lib/python3.6/dist-packages/sklearn/externals/joblib/__init__.py:15: DeprecationWarning: sklearn.externals.joblib is deprecated in 0.21 and will be removed in 0.23. Please import this functionality directly from joblib, which can be installed with: pip install joblib. If this warning is raised when loading pickled models, you may need to re-serialize those models with scikit-learn 0.21+.\n",
            "  warnings.warn(msg, category=DeprecationWarning)\n",
            "/usr/local/lib/python3.6/dist-packages/toai/imports.py:70: UserWarning: Could not find kaggle.json. Make sure it's located in /root/.kaggle. Or use the environment method.\n",
            "  warnings.warn(str(error))\n"
          ],
          "name": "stderr"
        }
      ]
    },
    {
      "cell_type": "code",
      "metadata": {
        "id": "ghn92AVXJFwQ",
        "colab_type": "code",
        "colab": {}
      },
      "source": [
        "DATA_DIR = Path(\"data/web_traffic\")\n",
        "DATA_DIR.mkdir(parents=True, exist_ok=True)\n",
        "\n",
        "TEMP_DIR = Path(\"temp/web_traffic\")\n",
        "TEMP_DIR.mkdir(parents=True, exist_ok=True)"
      ],
      "execution_count": 0,
      "outputs": []
    },
    {
      "cell_type": "code",
      "metadata": {
        "id": "hyGob_rRJF-q",
        "colab_type": "code",
        "colab": {}
      },
      "source": [
        "df = pd.read_csv('PJM_Load_hourly.csv')"
      ],
      "execution_count": 0,
      "outputs": []
    },
    {
      "cell_type": "code",
      "metadata": {
        "id": "Re9rGT3fJF87",
        "colab_type": "code",
        "outputId": "e9bc025d-9dd1-46b1-d5db-6da926a514e4",
        "colab": {
          "base_uri": "https://localhost:8080/",
          "height": 34
        }
      },
      "source": [
        "df.shape"
      ],
      "execution_count": 9,
      "outputs": [
        {
          "output_type": "execute_result",
          "data": {
            "text/plain": [
              "(32896, 2)"
            ]
          },
          "metadata": {
            "tags": []
          },
          "execution_count": 9
        }
      ]
    },
    {
      "cell_type": "code",
      "metadata": {
        "id": "NvbJ2mQDJF56",
        "colab_type": "code",
        "outputId": "bbb3ff75-60f3-47aa-83e6-77a940860f74",
        "colab": {
          "base_uri": "https://localhost:8080/",
          "height": 204
        }
      },
      "source": [
        "df.head(5)"
      ],
      "execution_count": 10,
      "outputs": [
        {
          "output_type": "execute_result",
          "data": {
            "text/html": [
              "<div>\n",
              "<style scoped>\n",
              "    .dataframe tbody tr th:only-of-type {\n",
              "        vertical-align: middle;\n",
              "    }\n",
              "\n",
              "    .dataframe tbody tr th {\n",
              "        vertical-align: top;\n",
              "    }\n",
              "\n",
              "    .dataframe thead th {\n",
              "        text-align: right;\n",
              "    }\n",
              "</style>\n",
              "<table border=\"1\" class=\"dataframe\">\n",
              "  <thead>\n",
              "    <tr style=\"text-align: right;\">\n",
              "      <th></th>\n",
              "      <th>Datetime</th>\n",
              "      <th>PJM_Load_MW</th>\n",
              "    </tr>\n",
              "  </thead>\n",
              "  <tbody>\n",
              "    <tr>\n",
              "      <th>0</th>\n",
              "      <td>1998-12-31 01:00:00</td>\n",
              "      <td>29309.0</td>\n",
              "    </tr>\n",
              "    <tr>\n",
              "      <th>1</th>\n",
              "      <td>1998-12-31 02:00:00</td>\n",
              "      <td>28236.0</td>\n",
              "    </tr>\n",
              "    <tr>\n",
              "      <th>2</th>\n",
              "      <td>1998-12-31 03:00:00</td>\n",
              "      <td>27692.0</td>\n",
              "    </tr>\n",
              "    <tr>\n",
              "      <th>3</th>\n",
              "      <td>1998-12-31 04:00:00</td>\n",
              "      <td>27596.0</td>\n",
              "    </tr>\n",
              "    <tr>\n",
              "      <th>4</th>\n",
              "      <td>1998-12-31 05:00:00</td>\n",
              "      <td>27888.0</td>\n",
              "    </tr>\n",
              "  </tbody>\n",
              "</table>\n",
              "</div>"
            ],
            "text/plain": [
              "              Datetime  PJM_Load_MW\n",
              "0  1998-12-31 01:00:00      29309.0\n",
              "1  1998-12-31 02:00:00      28236.0\n",
              "2  1998-12-31 03:00:00      27692.0\n",
              "3  1998-12-31 04:00:00      27596.0\n",
              "4  1998-12-31 05:00:00      27888.0"
            ]
          },
          "metadata": {
            "tags": []
          },
          "execution_count": 10
        }
      ]
    },
    {
      "cell_type": "code",
      "metadata": {
        "id": "2G8UUFUTJF26",
        "colab_type": "code",
        "outputId": "4c563ef7-daab-4a3a-ac65-3d0ee215c4cf",
        "colab": {
          "base_uri": "https://localhost:8080/",
          "height": 136
        }
      },
      "source": [
        "df.info()"
      ],
      "execution_count": 11,
      "outputs": [
        {
          "output_type": "stream",
          "text": [
            "<class 'pandas.core.frame.DataFrame'>\n",
            "RangeIndex: 32896 entries, 0 to 32895\n",
            "Data columns (total 2 columns):\n",
            "Datetime       32896 non-null object\n",
            "PJM_Load_MW    32896 non-null float64\n",
            "dtypes: float64(1), object(1)\n",
            "memory usage: 514.1+ KB\n"
          ],
          "name": "stdout"
        }
      ]
    },
    {
      "cell_type": "code",
      "metadata": {
        "id": "Epc97s9JJF0-",
        "colab_type": "code",
        "outputId": "7db49f43-05f3-4289-ac01-dc6c4efec922",
        "colab": {
          "base_uri": "https://localhost:8080/",
          "height": 337
        }
      },
      "source": [
        "df.plot(figsize=(10,5))"
      ],
      "execution_count": 65,
      "outputs": [
        {
          "output_type": "execute_result",
          "data": {
            "text/plain": [
              "<matplotlib.axes._subplots.AxesSubplot at 0x7f978ef0ec18>"
            ]
          },
          "metadata": {
            "tags": []
          },
          "execution_count": 65
        },
        {
          "output_type": "display_data",
          "data": {
            "image/png": "[encoded data removed]",
            "text/plain": [
              "<Figure size 720x360 with 1 Axes>"
            ]
          },
          "metadata": {
            "tags": []
          }
        }
      ]
    },
    {
      "cell_type": "code",
      "metadata": {
        "id": "-NvHPWW-JFzL",
        "colab_type": "code",
        "outputId": "11fe9cbd-3e97-4f31-ca9a-f3129a3ad35b",
        "colab": {
          "base_uri": "https://localhost:8080/",
          "height": 297
        }
      },
      "source": [
        "sns.distplot(df.PJM_Load_MW)"
      ],
      "execution_count": 64,
      "outputs": [
        {
          "output_type": "execute_result",
          "data": {
            "text/plain": [
              "<matplotlib.axes._subplots.AxesSubplot at 0x7f9792190c50>"
            ]
          },
          "metadata": {
            "tags": []
          },
          "execution_count": 64
        },
        {
          "output_type": "display_data",
          "data": {
            "image/png": "[encoded data removed]",
            "text/plain": [
              "<Figure size 432x288 with 1 Axes>"
            ]
          },
          "metadata": {
            "tags": []
          }
        }
      ]
    },
    {
      "cell_type": "code",
      "metadata": {
        "id": "oOnxXhd5JFaO",
        "colab_type": "code",
        "colab": {}
      },
      "source": [
        "def split_timeseries_df(\n",
        "    data: pd.DataFrame, test_size: float\n",
        ") -> Tuple[pd.DataFrame, pd.DataFrame, pd.DataFrame]:\n",
        "    train_data, test_data = train_test_split(data, test_size=test_size, shuffle=False)\n",
        "    val_data, test_data = train_test_split(test_data, test_size=0.5, shuffle=False)\n",
        "    return train_data, val_data, test_data"
      ],
      "execution_count": 0,
      "outputs": []
    },
    {
      "cell_type": "code",
      "metadata": {
        "id": "JxZALX2WJFU-",
        "colab_type": "code",
        "colab": {}
      },
      "source": [
        "train_data, val_data, test_data = split_timeseries_df(df, 0.5)"
      ],
      "execution_count": 0,
      "outputs": []
    },
    {
      "cell_type": "code",
      "metadata": {
        "id": "w7yyh-2Bq-D-",
        "colab_type": "code",
        "outputId": "a32ef1b4-6380-4d09-ddab-18daacc66da9",
        "colab": {
          "base_uri": "https://localhost:8080/",
          "height": 34
        }
      },
      "source": [
        "[series.shape for series in (train_data, val_data, test_data)]"
      ],
      "execution_count": 16,
      "outputs": [
        {
          "output_type": "execute_result",
          "data": {
            "text/plain": [
              "[(16448, 2), (8224, 2), (8224, 2)]"
            ]
          },
          "metadata": {
            "tags": []
          },
          "execution_count": 16
        }
      ]
    },
    {
      "cell_type": "code",
      "metadata": {
        "id": "6QdIUehDq-Kk",
        "colab_type": "code",
        "outputId": "2b035da4-5e60-4f42-ec85-967a3c88ddd7",
        "colab": {
          "base_uri": "https://localhost:8080/",
          "height": 102
        }
      },
      "source": [
        "train_data.iloc[-1], val_data.iloc[0]"
      ],
      "execution_count": 17,
      "outputs": [
        {
          "output_type": "execute_result",
          "data": {
            "text/plain": [
              "(Datetime       2000-11-16 12:00:00\n",
              " PJM_Load_MW                  32643\n",
              " Name: 16447, dtype: object, Datetime       2000-11-16 13:00:00\n",
              " PJM_Load_MW                  32018\n",
              " Name: 16448, dtype: object)"
            ]
          },
          "metadata": {
            "tags": []
          },
          "execution_count": 17
        }
      ]
    },
    {
      "cell_type": "code",
      "metadata": {
        "id": "fJKrGAUlq-Pj",
        "colab_type": "code",
        "outputId": "9fd94143-67d8-46df-e9e7-ac0e4c6b3e0e",
        "colab": {
          "base_uri": "https://localhost:8080/",
          "height": 102
        }
      },
      "source": [
        "val_data.iloc[-1], test_data.iloc[0]"
      ],
      "execution_count": 18,
      "outputs": [
        {
          "output_type": "execute_result",
          "data": {
            "text/plain": [
              "(Datetime       2001-12-09 06:00:00\n",
              " PJM_Load_MW                  22241\n",
              " Name: 24671, dtype: object, Datetime       2001-12-09 07:00:00\n",
              " PJM_Load_MW                  23152\n",
              " Name: 24672, dtype: object)"
            ]
          },
          "metadata": {
            "tags": []
          },
          "execution_count": 18
        }
      ]
    },
    {
      "cell_type": "code",
      "metadata": {
        "id": "dIfZsrf1vIxv",
        "colab_type": "code",
        "outputId": "77531389-67a9-46e1-9e12-cd81e68b14e5",
        "colab": {
          "base_uri": "https://localhost:8080/",
          "height": 34
        }
      },
      "source": [
        "train_data.shape"
      ],
      "execution_count": 19,
      "outputs": [
        {
          "output_type": "execute_result",
          "data": {
            "text/plain": [
              "(16448, 2)"
            ]
          },
          "metadata": {
            "tags": []
          },
          "execution_count": 19
        }
      ]
    },
    {
      "cell_type": "code",
      "metadata": {
        "id": "lnL5PwWyq-S9",
        "colab_type": "code",
        "colab": {}
      },
      "source": [
        "def scale(series):\n",
        "  return (series-np.mean(series))/np.std(series)"
      ],
      "execution_count": 0,
      "outputs": []
    },
    {
      "cell_type": "code",
      "metadata": {
        "id": "tf-99Wg4q-Ws",
        "colab_type": "code",
        "colab": {}
      },
      "source": [
        "train_data, val_data, test_data = [\n",
        "                                   scale(series.PJM_Load_MW.values).reshape(1,-1,1)\n",
        "                                   for series in (train_data, val_data, test_data)\n",
        "]"
      ],
      "execution_count": 0,
      "outputs": []
    },
    {
      "cell_type": "markdown",
      "metadata": {
        "id": "3uBjkLlEu0q3",
        "colab_type": "text"
      },
      "source": [
        ""
      ]
    },
    {
      "cell_type": "code",
      "metadata": {
        "id": "i_vpYKeDq-b0",
        "colab_type": "code",
        "outputId": "fde018a2-bc19-403b-e55d-a4d4448b8fed",
        "colab": {
          "base_uri": "https://localhost:8080/",
          "height": 34
        }
      },
      "source": [
        "train_data.shape"
      ],
      "execution_count": 22,
      "outputs": [
        {
          "output_type": "execute_result",
          "data": {
            "text/plain": [
              "(1, 16448, 1)"
            ]
          },
          "metadata": {
            "tags": []
          },
          "execution_count": 22
        }
      ]
    },
    {
      "cell_type": "code",
      "metadata": {
        "id": "I2oRQkspq-fX",
        "colab_type": "code",
        "colab": {}
      },
      "source": [
        "prediction_length = 24"
      ],
      "execution_count": 0,
      "outputs": []
    },
    {
      "cell_type": "code",
      "metadata": {
        "id": "u9ZK4ZCeq-ir",
        "colab_type": "code",
        "colab": {}
      },
      "source": [
        "def timeseries_extract_distributed_labels(\n",
        "    series: np.ndarray, pred_length: int\n",
        ") -> Tuple[np.ndarray, np.ndarray]:\n",
        "    n_labels = series.shape[1] - pred_length\n",
        "    labels = np.empty((series.shape[0], n_labels, pred_length))\n",
        "    for step_ahead in range(1, pred_length + 1):\n",
        "        labels[..., step_ahead - 1] = series[..., step_ahead : step_ahead + n_labels, 0]\n",
        "    return series[:, :-pred_length], labels"
      ],
      "execution_count": 0,
      "outputs": []
    },
    {
      "cell_type": "code",
      "metadata": {
        "id": "OyUUbWaWtW_R",
        "colab_type": "code",
        "colab": {}
      },
      "source": [
        "(train_data, train_labels), (val_data, val_labels), (test_data, test_labels) = [\n",
        "    timeseries_extract_distributed_labels(series, prediction_length)\n",
        "    for series in (train_data, val_data, test_data)\n",
        "]"
      ],
      "execution_count": 0,
      "outputs": []
    },
    {
      "cell_type": "code",
      "metadata": {
        "id": "JO1ibZrFtXIG",
        "colab_type": "code",
        "outputId": "4f615127-3496-4596-8c0e-cdb6bf81d756",
        "colab": {
          "base_uri": "https://localhost:8080/",
          "height": 34
        }
      },
      "source": [
        "train_data.shape"
      ],
      "execution_count": 26,
      "outputs": [
        {
          "output_type": "execute_result",
          "data": {
            "text/plain": [
              "(1, 16424, 1)"
            ]
          },
          "metadata": {
            "tags": []
          },
          "execution_count": 26
        }
      ]
    },
    {
      "cell_type": "code",
      "metadata": {
        "id": "5RyFDpWztXND",
        "colab_type": "code",
        "outputId": "0a163009-e008-4959-97f4-b86deefdf128",
        "colab": {
          "base_uri": "https://localhost:8080/",
          "height": 34
        }
      },
      "source": [
        "train_labels.shape"
      ],
      "execution_count": 27,
      "outputs": [
        {
          "output_type": "execute_result",
          "data": {
            "text/plain": [
              "(1, 16424, 24)"
            ]
          },
          "metadata": {
            "tags": []
          },
          "execution_count": 27
        }
      ]
    },
    {
      "cell_type": "code",
      "metadata": {
        "id": "pgv_3L_mtXTZ",
        "colab_type": "code",
        "outputId": "43011647-7d70-4f2f-9256-c67f865592c9",
        "colab": {
          "base_uri": "https://localhost:8080/",
          "height": 34
        }
      },
      "source": [
        "val_data.shape"
      ],
      "execution_count": 28,
      "outputs": [
        {
          "output_type": "execute_result",
          "data": {
            "text/plain": [
              "(1, 8200, 1)"
            ]
          },
          "metadata": {
            "tags": []
          },
          "execution_count": 28
        }
      ]
    },
    {
      "cell_type": "code",
      "metadata": {
        "id": "Fuv1yQuTtXQ5",
        "colab_type": "code",
        "outputId": "17bcd8b7-4552-4c61-fef8-d9104538a13e",
        "colab": {
          "base_uri": "https://localhost:8080/",
          "height": 34
        }
      },
      "source": [
        "val_labels.shape"
      ],
      "execution_count": 29,
      "outputs": [
        {
          "output_type": "execute_result",
          "data": {
            "text/plain": [
              "(1, 8200, 24)"
            ]
          },
          "metadata": {
            "tags": []
          },
          "execution_count": 29
        }
      ]
    },
    {
      "cell_type": "code",
      "metadata": {
        "id": "MC5aH_5_1_dP",
        "colab_type": "code",
        "colab": {}
      },
      "source": [
        "model1 = keras.models.Sequential(\n",
        "    [\n",
        "        keras.layers.LSTM(64, return_sequences=True, input_shape=[None, 1]),\n",
        "        keras.layers.LSTM(32, return_sequences=True),\n",
        "        keras.layers.Dense(24),\n",
        "    ]\n",
        ")"
      ],
      "execution_count": 0,
      "outputs": []
    },
    {
      "cell_type": "code",
      "metadata": {
        "id": "hVPVcO876AWW",
        "colab_type": "code",
        "outputId": "d77a3e5f-7e32-418e-cf9b-156f04c5c37b",
        "colab": {
          "base_uri": "https://localhost:8080/",
          "height": 255
        }
      },
      "source": [
        "model1.summary()"
      ],
      "execution_count": 31,
      "outputs": [
        {
          "output_type": "stream",
          "text": [
            "Model: \"sequential\"\n",
            "_________________________________________________________________\n",
            "Layer (type)                 Output Shape              Param #   \n",
            "=================================================================\n",
            "lstm (LSTM)                  (None, None, 64)          16896     \n",
            "_________________________________________________________________\n",
            "lstm_1 (LSTM)                (None, None, 32)          12416     \n",
            "_________________________________________________________________\n",
            "dense (Dense)                (None, None, 24)          792       \n",
            "=================================================================\n",
            "Total params: 30,104\n",
            "Trainable params: 30,104\n",
            "Non-trainable params: 0\n",
            "_________________________________________________________________\n"
          ],
          "name": "stdout"
        }
      ]
    },
    {
      "cell_type": "code",
      "metadata": {
        "id": "25zmh47w1_bu",
        "colab_type": "code",
        "colab": {}
      },
      "source": [
        "model1.compile(loss=keras.losses.mse, optimizer=keras.optimizers.Adam(lr=1e-3))"
      ],
      "execution_count": 0,
      "outputs": []
    },
    {
      "cell_type": "code",
      "metadata": {
        "id": "hR1c_zwx1_Ws",
        "colab_type": "code",
        "outputId": "d5514b1f-adb0-48ca-bfa4-d4268d5d9fb0",
        "colab": {
          "base_uri": "https://localhost:8080/",
          "height": 1000
        }
      },
      "source": [
        "model1.fit(\n",
        "    train_data,\n",
        "    train_labels,\n",
        "    validation_data=(val_data, val_labels),\n",
        "    epochs=50,\n",
        "    verbose=2,\n",
        ")"
      ],
      "execution_count": 33,
      "outputs": [
        {
          "output_type": "stream",
          "text": [
            "Train on 1 samples, validate on 1 samples\n",
            "Epoch 1/50\n",
            "1/1 - 73s - loss: 0.9999 - val_loss: 0.9888\n",
            "Epoch 2/50\n",
            "1/1 - 62s - loss: 0.9874 - val_loss: 0.9783\n",
            "Epoch 3/50\n",
            "1/1 - 62s - loss: 0.9754 - val_loss: 0.9682\n",
            "Epoch 4/50\n",
            "1/1 - 62s - loss: 0.9637 - val_loss: 0.9580\n",
            "Epoch 5/50\n",
            "1/1 - 62s - loss: 0.9520 - val_loss: 0.9477\n",
            "Epoch 6/50\n",
            "1/1 - 62s - loss: 0.9401 - val_loss: 0.9371\n",
            "Epoch 7/50\n",
            "1/1 - 62s - loss: 0.9278 - val_loss: 0.9261\n",
            "Epoch 8/50\n",
            "1/1 - 62s - loss: 0.9150 - val_loss: 0.9146\n",
            "Epoch 9/50\n",
            "1/1 - 62s - loss: 0.9016 - val_loss: 0.9025\n",
            "Epoch 10/50\n",
            "1/1 - 63s - loss: 0.8876 - val_loss: 0.8899\n",
            "Epoch 11/50\n",
            "1/1 - 63s - loss: 0.8729 - val_loss: 0.8770\n",
            "Epoch 12/50\n",
            "1/1 - 62s - loss: 0.8576 - val_loss: 0.8638\n",
            "Epoch 13/50\n",
            "1/1 - 62s - loss: 0.8420 - val_loss: 0.8507\n",
            "Epoch 14/50\n",
            "1/1 - 62s - loss: 0.8264 - val_loss: 0.8382\n",
            "Epoch 15/50\n",
            "1/1 - 62s - loss: 0.8112 - val_loss: 0.8269\n",
            "Epoch 16/50\n",
            "1/1 - 61s - loss: 0.7972 - val_loss: 0.8172\n",
            "Epoch 17/50\n",
            "1/1 - 61s - loss: 0.7848 - val_loss: 0.8091\n",
            "Epoch 18/50\n",
            "1/1 - 61s - loss: 0.7742 - val_loss: 0.8021\n",
            "Epoch 19/50\n",
            "1/1 - 61s - loss: 0.7648 - val_loss: 0.7951\n",
            "Epoch 20/50\n",
            "1/1 - 61s - loss: 0.7558 - val_loss: 0.7875\n",
            "Epoch 21/50\n",
            "1/1 - 61s - loss: 0.7465 - val_loss: 0.7792\n",
            "Epoch 22/50\n",
            "1/1 - 61s - loss: 0.7369 - val_loss: 0.7707\n",
            "Epoch 23/50\n",
            "1/1 - 61s - loss: 0.7272 - val_loss: 0.7623\n",
            "Epoch 24/50\n",
            "1/1 - 61s - loss: 0.7182 - val_loss: 0.7543\n",
            "Epoch 25/50\n",
            "1/1 - 61s - loss: 0.7098 - val_loss: 0.7466\n",
            "Epoch 26/50\n",
            "1/1 - 61s - loss: 0.7019 - val_loss: 0.7390\n",
            "Epoch 27/50\n",
            "1/1 - 61s - loss: 0.6943 - val_loss: 0.7313\n",
            "Epoch 28/50\n",
            "1/1 - 61s - loss: 0.6866 - val_loss: 0.7235\n",
            "Epoch 29/50\n",
            "1/1 - 61s - loss: 0.6787 - val_loss: 0.7154\n",
            "Epoch 30/50\n",
            "1/1 - 61s - loss: 0.6705 - val_loss: 0.7072\n",
            "Epoch 31/50\n",
            "1/1 - 61s - loss: 0.6620 - val_loss: 0.6989\n",
            "Epoch 32/50\n",
            "1/1 - 61s - loss: 0.6535 - val_loss: 0.6907\n",
            "Epoch 33/50\n",
            "1/1 - 61s - loss: 0.6449 - val_loss: 0.6824\n",
            "Epoch 34/50\n",
            "1/1 - 61s - loss: 0.6364 - val_loss: 0.6739\n",
            "Epoch 35/50\n",
            "1/1 - 61s - loss: 0.6278 - val_loss: 0.6651\n",
            "Epoch 36/50\n",
            "1/1 - 62s - loss: 0.6189 - val_loss: 0.6559\n",
            "Epoch 37/50\n",
            "1/1 - 61s - loss: 0.6097 - val_loss: 0.6465\n",
            "Epoch 38/50\n",
            "1/1 - 61s - loss: 0.6004 - val_loss: 0.6370\n",
            "Epoch 39/50\n",
            "1/1 - 61s - loss: 0.5911 - val_loss: 0.6275\n",
            "Epoch 40/50\n",
            "1/1 - 61s - loss: 0.5818 - val_loss: 0.6180\n",
            "Epoch 41/50\n",
            "1/1 - 61s - loss: 0.5724 - val_loss: 0.6082\n",
            "Epoch 42/50\n",
            "1/1 - 61s - loss: 0.5626 - val_loss: 0.5981\n",
            "Epoch 43/50\n",
            "1/1 - 61s - loss: 0.5525 - val_loss: 0.5879\n",
            "Epoch 44/50\n",
            "1/1 - 61s - loss: 0.5423 - val_loss: 0.5776\n",
            "Epoch 45/50\n",
            "1/1 - 61s - loss: 0.5322 - val_loss: 0.5673\n",
            "Epoch 46/50\n",
            "1/1 - 61s - loss: 0.5221 - val_loss: 0.5571\n",
            "Epoch 47/50\n",
            "1/1 - 61s - loss: 0.5121 - val_loss: 0.5471\n",
            "Epoch 48/50\n",
            "1/1 - 61s - loss: 0.5023 - val_loss: 0.5374\n",
            "Epoch 49/50\n",
            "1/1 - 61s - loss: 0.4926 - val_loss: 0.5280\n",
            "Epoch 50/50\n",
            "1/1 - 61s - loss: 0.4831 - val_loss: 0.5186\n"
          ],
          "name": "stdout"
        },
        {
          "output_type": "execute_result",
          "data": {
            "text/plain": [
              "<tensorflow.python.keras.callbacks.History at 0x7f97a84b3320>"
            ]
          },
          "metadata": {
            "tags": []
          },
          "execution_count": 33
        }
      ]
    },
    {
      "cell_type": "code",
      "metadata": {
        "id": "6AD4aIaW1_Ru",
        "colab_type": "code",
        "colab": {
          "base_uri": "https://localhost:8080/",
          "height": 34
        },
        "outputId": "873896ed-dcab-4084-bf39-132c9cac13dc"
      },
      "source": [
        "model1.evaluate(val_data, val_labels, verbose=3)"
      ],
      "execution_count": 34,
      "outputs": [
        {
          "output_type": "execute_result",
          "data": {
            "text/plain": [
              "0.5186112523078918"
            ]
          },
          "metadata": {
            "tags": []
          },
          "execution_count": 34
        }
      ]
    },
    {
      "cell_type": "code",
      "metadata": {
        "id": "VBPZOCNv7tAO",
        "colab_type": "code",
        "colab": {}
      },
      "source": [
        "model2 = keras.models.Sequential(\n",
        "    [\n",
        "     keras.layers.LSTM(\n",
        "         64, dropout=0.1, return_sequences=True, input_shape=[None, 1]\n",
        "                       ),\n",
        "     keras.layers.LSTM(32, dropout=0.1, return_sequences=True),\n",
        "     keras.layers.Dense(24),\n",
        "    ]\n",
        ")"
      ],
      "execution_count": 0,
      "outputs": []
    },
    {
      "cell_type": "code",
      "metadata": {
        "id": "q1px5IZN7tSm",
        "colab_type": "code",
        "colab": {}
      },
      "source": [
        "model2.compile(loss=keras.losses.mse, optimizer=keras.optimizers.Adam(lr=1e-3))"
      ],
      "execution_count": 0,
      "outputs": []
    },
    {
      "cell_type": "code",
      "metadata": {
        "id": "hTmzQLQz7tbj",
        "colab_type": "code",
        "colab": {
          "base_uri": "https://localhost:8080/",
          "height": 1000
        },
        "outputId": "8994c575-5449-4da8-fd9a-f812d0ada9b5"
      },
      "source": [
        "model2.fit(\n",
        "    train_data,\n",
        "    train_labels,\n",
        "    validation_data=(val_data, val_labels),\n",
        "    epochs=50,\n",
        "    verbose=2,\n",
        ")"
      ],
      "execution_count": 37,
      "outputs": [
        {
          "output_type": "stream",
          "text": [
            "Train on 1 samples, validate on 1 samples\n",
            "Epoch 1/50\n",
            "1/1 - 71s - loss: 1.0154 - val_loss: 1.0029\n",
            "Epoch 2/50\n",
            "1/1 - 61s - loss: 1.0025 - val_loss: 0.9926\n",
            "Epoch 3/50\n",
            "1/1 - 61s - loss: 0.9903 - val_loss: 0.9826\n",
            "Epoch 4/50\n",
            "1/1 - 61s - loss: 0.9786 - val_loss: 0.9729\n",
            "Epoch 5/50\n",
            "1/1 - 61s - loss: 0.9668 - val_loss: 0.9631\n",
            "Epoch 6/50\n",
            "1/1 - 62s - loss: 0.9552 - val_loss: 0.9531\n",
            "Epoch 7/50\n",
            "1/1 - 61s - loss: 0.9430 - val_loss: 0.9428\n",
            "Epoch 8/50\n",
            "1/1 - 61s - loss: 0.9309 - val_loss: 0.9321\n",
            "Epoch 9/50\n",
            "1/1 - 61s - loss: 0.9173 - val_loss: 0.9211\n",
            "Epoch 10/50\n",
            "1/1 - 61s - loss: 0.9045 - val_loss: 0.9096\n",
            "Epoch 11/50\n",
            "1/1 - 62s - loss: 0.8901 - val_loss: 0.8981\n",
            "Epoch 12/50\n",
            "1/1 - 61s - loss: 0.8768 - val_loss: 0.8868\n",
            "Epoch 13/50\n",
            "1/1 - 61s - loss: 0.8629 - val_loss: 0.8764\n",
            "Epoch 14/50\n",
            "1/1 - 61s - loss: 0.8495 - val_loss: 0.8677\n",
            "Epoch 15/50\n",
            "1/1 - 62s - loss: 0.8376 - val_loss: 0.8610\n",
            "Epoch 16/50\n",
            "1/1 - 62s - loss: 0.8284 - val_loss: 0.8555\n",
            "Epoch 17/50\n",
            "1/1 - 61s - loss: 0.8215 - val_loss: 0.8495\n",
            "Epoch 18/50\n",
            "1/1 - 61s - loss: 0.8122 - val_loss: 0.8422\n",
            "Epoch 19/50\n",
            "1/1 - 61s - loss: 0.8045 - val_loss: 0.8340\n",
            "Epoch 20/50\n",
            "1/1 - 62s - loss: 0.7948 - val_loss: 0.8256\n",
            "Epoch 21/50\n",
            "1/1 - 61s - loss: 0.7861 - val_loss: 0.8178\n",
            "Epoch 22/50\n",
            "1/1 - 61s - loss: 0.7768 - val_loss: 0.8107\n",
            "Epoch 23/50\n",
            "1/1 - 61s - loss: 0.7702 - val_loss: 0.8039\n",
            "Epoch 24/50\n",
            "1/1 - 61s - loss: 0.7636 - val_loss: 0.7972\n",
            "Epoch 25/50\n",
            "1/1 - 62s - loss: 0.7554 - val_loss: 0.7904\n",
            "Epoch 26/50\n",
            "1/1 - 62s - loss: 0.7481 - val_loss: 0.7834\n",
            "Epoch 27/50\n",
            "1/1 - 62s - loss: 0.7409 - val_loss: 0.7764\n",
            "Epoch 28/50\n",
            "1/1 - 61s - loss: 0.7322 - val_loss: 0.7696\n",
            "Epoch 29/50\n",
            "1/1 - 61s - loss: 0.7241 - val_loss: 0.7632\n",
            "Epoch 30/50\n",
            "1/1 - 61s - loss: 0.7156 - val_loss: 0.7569\n",
            "Epoch 31/50\n",
            "1/1 - 62s - loss: 0.7089 - val_loss: 0.7502\n",
            "Epoch 32/50\n",
            "1/1 - 61s - loss: 0.7038 - val_loss: 0.7427\n",
            "Epoch 33/50\n",
            "1/1 - 61s - loss: 0.6949 - val_loss: 0.7344\n",
            "Epoch 34/50\n",
            "1/1 - 61s - loss: 0.6889 - val_loss: 0.7257\n",
            "Epoch 35/50\n",
            "1/1 - 61s - loss: 0.6777 - val_loss: 0.7170\n",
            "Epoch 36/50\n",
            "1/1 - 62s - loss: 0.6701 - val_loss: 0.7083\n",
            "Epoch 37/50\n",
            "1/1 - 61s - loss: 0.6614 - val_loss: 0.6994\n",
            "Epoch 38/50\n",
            "1/1 - 61s - loss: 0.6530 - val_loss: 0.6901\n",
            "Epoch 39/50\n",
            "1/1 - 61s - loss: 0.6451 - val_loss: 0.6803\n",
            "Epoch 40/50\n",
            "1/1 - 61s - loss: 0.6331 - val_loss: 0.6703\n",
            "Epoch 41/50\n",
            "1/1 - 62s - loss: 0.6241 - val_loss: 0.6601\n",
            "Epoch 42/50\n",
            "1/1 - 62s - loss: 0.6137 - val_loss: 0.6498\n",
            "Epoch 43/50\n",
            "1/1 - 61s - loss: 0.6041 - val_loss: 0.6393\n",
            "Epoch 44/50\n",
            "1/1 - 61s - loss: 0.5949 - val_loss: 0.6285\n",
            "Epoch 45/50\n",
            "1/1 - 62s - loss: 0.5846 - val_loss: 0.6175\n",
            "Epoch 46/50\n",
            "1/1 - 62s - loss: 0.5742 - val_loss: 0.6065\n",
            "Epoch 47/50\n",
            "1/1 - 61s - loss: 0.5645 - val_loss: 0.5956\n",
            "Epoch 48/50\n",
            "1/1 - 61s - loss: 0.5534 - val_loss: 0.5848\n",
            "Epoch 49/50\n",
            "1/1 - 61s - loss: 0.5440 - val_loss: 0.5740\n",
            "Epoch 50/50\n",
            "1/1 - 61s - loss: 0.5325 - val_loss: 0.5632\n"
          ],
          "name": "stdout"
        },
        {
          "output_type": "execute_result",
          "data": {
            "text/plain": [
              "<tensorflow.python.keras.callbacks.History at 0x7f97a453eac8>"
            ]
          },
          "metadata": {
            "tags": []
          },
          "execution_count": 37
        }
      ]
    },
    {
      "cell_type": "code",
      "metadata": {
        "id": "UWkkUW617th3",
        "colab_type": "code",
        "colab": {}
      },
      "source": [
        "model3 = keras.models.Sequential(\n",
        "    [\n",
        "     keras.layers.Conv1D(\n",
        "         filters=64, kernel_size=12, padding=\"same\", input_shape=[None, 1]\n",
        "        ),\n",
        "        keras.layers.Bidirectional(keras.layers.LSTM(32, return_sequences=True)),\n",
        "        keras.layers.Dense(24),\n",
        "    ]\n",
        ")"
      ],
      "execution_count": 0,
      "outputs": []
    },
    {
      "cell_type": "code",
      "metadata": {
        "id": "a0p-oeEu8mhK",
        "colab_type": "code",
        "colab": {}
      },
      "source": [
        "model3.compile(loss=keras.losses.mse, optimizer=keras.optimizers.Adam(lr=1e-3))"
      ],
      "execution_count": 0,
      "outputs": []
    },
    {
      "cell_type": "code",
      "metadata": {
        "id": "3OKeLqdX8mpq",
        "colab_type": "code",
        "colab": {
          "base_uri": "https://localhost:8080/",
          "height": 1000
        },
        "outputId": "37a5dbea-0b94-4202-afc2-6e2b13ffd14c"
      },
      "source": [
        "model3.fit(\n",
        "    train_data,\n",
        "    train_labels,\n",
        "    validation_data=(val_data, val_labels),\n",
        "    epochs=50,\n",
        "    verbose=2,\n",
        ")"
      ],
      "execution_count": 40,
      "outputs": [
        {
          "output_type": "stream",
          "text": [
            "Train on 1 samples, validate on 1 samples\n",
            "Epoch 1/50\n",
            "1/1 - 58s - loss: 0.9496 - val_loss: 0.9219\n",
            "Epoch 2/50\n",
            "1/1 - 50s - loss: 0.9093 - val_loss: 0.8873\n",
            "Epoch 3/50\n",
            "1/1 - 50s - loss: 0.8719 - val_loss: 0.8548\n",
            "Epoch 4/50\n",
            "1/1 - 50s - loss: 0.8369 - val_loss: 0.8241\n",
            "Epoch 5/50\n",
            "1/1 - 50s - loss: 0.8041 - val_loss: 0.7950\n",
            "Epoch 6/50\n",
            "1/1 - 50s - loss: 0.7730 - val_loss: 0.7672\n",
            "Epoch 7/50\n",
            "1/1 - 50s - loss: 0.7436 - val_loss: 0.7407\n",
            "Epoch 8/50\n",
            "1/1 - 49s - loss: 0.7156 - val_loss: 0.7154\n",
            "Epoch 9/50\n",
            "1/1 - 49s - loss: 0.6889 - val_loss: 0.6913\n",
            "Epoch 10/50\n",
            "1/1 - 49s - loss: 0.6636 - val_loss: 0.6683\n",
            "Epoch 11/50\n",
            "1/1 - 50s - loss: 0.6396 - val_loss: 0.6466\n",
            "Epoch 12/50\n",
            "1/1 - 50s - loss: 0.6169 - val_loss: 0.6260\n",
            "Epoch 13/50\n",
            "1/1 - 50s - loss: 0.5955 - val_loss: 0.6067\n",
            "Epoch 14/50\n",
            "1/1 - 49s - loss: 0.5755 - val_loss: 0.5885\n",
            "Epoch 15/50\n",
            "1/1 - 50s - loss: 0.5567 - val_loss: 0.5714\n",
            "Epoch 16/50\n",
            "1/1 - 50s - loss: 0.5391 - val_loss: 0.5552\n",
            "Epoch 17/50\n",
            "1/1 - 50s - loss: 0.5225 - val_loss: 0.5398\n",
            "Epoch 18/50\n",
            "1/1 - 49s - loss: 0.5068 - val_loss: 0.5250\n",
            "Epoch 19/50\n",
            "1/1 - 50s - loss: 0.4918 - val_loss: 0.5106\n",
            "Epoch 20/50\n",
            "1/1 - 50s - loss: 0.4773 - val_loss: 0.4966\n",
            "Epoch 21/50\n",
            "1/1 - 50s - loss: 0.4632 - val_loss: 0.4828\n",
            "Epoch 22/50\n",
            "1/1 - 49s - loss: 0.4494 - val_loss: 0.4692\n",
            "Epoch 23/50\n",
            "1/1 - 50s - loss: 0.4359 - val_loss: 0.4558\n",
            "Epoch 24/50\n",
            "1/1 - 50s - loss: 0.4226 - val_loss: 0.4425\n",
            "Epoch 25/50\n",
            "1/1 - 50s - loss: 0.4095 - val_loss: 0.4294\n",
            "Epoch 26/50\n",
            "1/1 - 50s - loss: 0.3966 - val_loss: 0.4166\n",
            "Epoch 27/50\n",
            "1/1 - 50s - loss: 0.3839 - val_loss: 0.4039\n",
            "Epoch 28/50\n",
            "1/1 - 50s - loss: 0.3715 - val_loss: 0.3916\n",
            "Epoch 29/50\n",
            "1/1 - 50s - loss: 0.3595 - val_loss: 0.3796\n",
            "Epoch 30/50\n",
            "1/1 - 50s - loss: 0.3478 - val_loss: 0.3679\n",
            "Epoch 31/50\n",
            "1/1 - 51s - loss: 0.3364 - val_loss: 0.3566\n",
            "Epoch 32/50\n",
            "1/1 - 51s - loss: 0.3254 - val_loss: 0.3457\n",
            "Epoch 33/50\n",
            "1/1 - 50s - loss: 0.3148 - val_loss: 0.3352\n",
            "Epoch 34/50\n",
            "1/1 - 50s - loss: 0.3047 - val_loss: 0.3251\n",
            "Epoch 35/50\n",
            "1/1 - 50s - loss: 0.2950 - val_loss: 0.3155\n",
            "Epoch 36/50\n",
            "1/1 - 50s - loss: 0.2857 - val_loss: 0.3065\n",
            "Epoch 37/50\n",
            "1/1 - 50s - loss: 0.2769 - val_loss: 0.2979\n",
            "Epoch 38/50\n",
            "1/1 - 50s - loss: 0.2686 - val_loss: 0.2898\n",
            "Epoch 39/50\n",
            "1/1 - 50s - loss: 0.2607 - val_loss: 0.2821\n",
            "Epoch 40/50\n",
            "1/1 - 50s - loss: 0.2533 - val_loss: 0.2749\n",
            "Epoch 41/50\n",
            "1/1 - 50s - loss: 0.2463 - val_loss: 0.2681\n",
            "Epoch 42/50\n",
            "1/1 - 50s - loss: 0.2397 - val_loss: 0.2617\n",
            "Epoch 43/50\n",
            "1/1 - 50s - loss: 0.2334 - val_loss: 0.2557\n",
            "Epoch 44/50\n",
            "1/1 - 50s - loss: 0.2275 - val_loss: 0.2500\n",
            "Epoch 45/50\n",
            "1/1 - 50s - loss: 0.2219 - val_loss: 0.2447\n",
            "Epoch 46/50\n",
            "1/1 - 50s - loss: 0.2167 - val_loss: 0.2397\n",
            "Epoch 47/50\n",
            "1/1 - 52s - loss: 0.2118 - val_loss: 0.2350\n",
            "Epoch 48/50\n",
            "1/1 - 49s - loss: 0.2071 - val_loss: 0.2305\n",
            "Epoch 49/50\n",
            "1/1 - 50s - loss: 0.2028 - val_loss: 0.2263\n",
            "Epoch 50/50\n",
            "1/1 - 50s - loss: 0.1987 - val_loss: 0.2223\n"
          ],
          "name": "stdout"
        },
        {
          "output_type": "execute_result",
          "data": {
            "text/plain": [
              "<tensorflow.python.keras.callbacks.History at 0x7f97a1e43e48>"
            ]
          },
          "metadata": {
            "tags": []
          },
          "execution_count": 40
        }
      ]
    },
    {
      "cell_type": "code",
      "metadata": {
        "id": "R1ri375j8mvQ",
        "colab_type": "code",
        "colab": {
          "base_uri": "https://localhost:8080/",
          "height": 51
        },
        "outputId": "5e2c89d4-f9fb-47d8-beca-d18f93865cd7"
      },
      "source": [
        "model1.evaluate(test_data, test_labels)"
      ],
      "execution_count": 41,
      "outputs": [
        {
          "output_type": "stream",
          "text": [
            "\r1/1 [==============================] - 1s 651ms/sample - loss: 0.5003\n"
          ],
          "name": "stdout"
        },
        {
          "output_type": "execute_result",
          "data": {
            "text/plain": [
              "0.5003206133842468"
            ]
          },
          "metadata": {
            "tags": []
          },
          "execution_count": 41
        }
      ]
    },
    {
      "cell_type": "code",
      "metadata": {
        "id": "cDBpGtGH8m1w",
        "colab_type": "code",
        "colab": {
          "base_uri": "https://localhost:8080/",
          "height": 51
        },
        "outputId": "c06d9d7f-a93c-4599-a6a2-e66ea15bc192"
      },
      "source": [
        "model2.evaluate(test_data, test_labels)"
      ],
      "execution_count": 42,
      "outputs": [
        {
          "output_type": "stream",
          "text": [
            "\r1/1 [==============================] - 1s 656ms/sample - loss: 0.5403\n"
          ],
          "name": "stdout"
        },
        {
          "output_type": "execute_result",
          "data": {
            "text/plain": [
              "0.5402686595916748"
            ]
          },
          "metadata": {
            "tags": []
          },
          "execution_count": 42
        }
      ]
    },
    {
      "cell_type": "code",
      "metadata": {
        "id": "oIWxe7nPCnIM",
        "colab_type": "code",
        "colab": {
          "base_uri": "https://localhost:8080/",
          "height": 51
        },
        "outputId": "5561bf66-1175-4808-e451-68e2fb76c849"
      },
      "source": [
        "model3.evaluate(test_data, test_labels)"
      ],
      "execution_count": 43,
      "outputs": [
        {
          "output_type": "stream",
          "text": [
            "\r1/1 [==============================] - 1s 594ms/sample - loss: 0.2093\n"
          ],
          "name": "stdout"
        },
        {
          "output_type": "execute_result",
          "data": {
            "text/plain": [
              "0.20933009684085846"
            ]
          },
          "metadata": {
            "tags": []
          },
          "execution_count": 43
        }
      ]
    },
    {
      "cell_type": "code",
      "metadata": {
        "id": "EtE2WPb5DYvm",
        "colab_type": "code",
        "colab": {}
      },
      "source": [
        "def plot_timeseries(\n",
        "    series: np.ndarray,\n",
        "    n_steps: int,\n",
        "    y_true: Optional[float] = None,\n",
        "    y_pred: Optional[float] = None,\n",
        "):\n",
        "    plt.plot(series, \".-\")\n",
        "    if y_true is not None:\n",
        "        plt.plot(n_steps, y_true, \"bo\", markersize=8)\n",
        "    if y_pred is not None:\n",
        "        plt.plot(n_steps, y_pred, \"ro\", markersize=8)\n",
        "    plt.axis([-5, n_steps + 5, -1, 1])"
      ],
      "execution_count": 0,
      "outputs": []
    },
    {
      "cell_type": "code",
      "metadata": {
        "id": "G4xHO92f8mzu",
        "colab_type": "code",
        "colab": {}
      },
      "source": [
        "def plot_multiple_distributed_forecasts(data, labels, predictions):\n",
        "    n_steps = data.shape[1]\n",
        "    ahead = labels.shape[2]\n",
        "    plot_timeseries(data[0, -ahead * 2 :, 0], ahead * 2)\n",
        "    plt.plot(\n",
        "        np.arange(ahead * 2, ahead * 3),\n",
        "        labels[0, n_steps - 1, :],\n",
        "        \"ro-\",\n",
        "        label=\"Actual\",\n",
        "        markersize=5,\n",
        "    )\n",
        "    plt.plot(\n",
        "        np.arange(ahead * 2, ahead * 3),\n",
        "        predictions[0, n_steps - 1, :],\n",
        "        \"go-\",\n",
        "        label=\"Forecast\",\n",
        "        markersize=5,\n",
        "    )\n",
        "\n",
        "    plt.legend(fontsize=14)"
      ],
      "execution_count": 0,
      "outputs": []
    },
    {
      "cell_type": "code",
      "metadata": {
        "id": "0juNa4KwDSRA",
        "colab_type": "code",
        "colab": {}
      },
      "source": [
        ""
      ],
      "execution_count": 0,
      "outputs": []
    },
    {
      "cell_type": "code",
      "metadata": {
        "id": "jD1il0VeC_sC",
        "colab_type": "code",
        "colab": {
          "base_uri": "https://localhost:8080/",
          "height": 269
        },
        "outputId": "e5f0b76d-7f2c-4301-bf8f-e5679ab44535"
      },
      "source": [
        "plot_multiple_distributed_forecasts(train_data,train_labels, model1.predict(train_data))"
      ],
      "execution_count": 61,
      "outputs": [
        {
          "output_type": "display_data",
          "data": {
            "image/png": "[encoded data removed]",
            "text/plain": [
              "<Figure size 432x288 with 1 Axes>"
            ]
          },
          "metadata": {
            "tags": []
          }
        }
      ]
    },
    {
      "cell_type": "code",
      "metadata": {
        "id": "-JiyDtj6C_8-",
        "colab_type": "code",
        "colab": {
          "base_uri": "https://localhost:8080/",
          "height": 269
        },
        "outputId": "2a5558dd-47fe-4945-8b98-ca1380b7b947"
      },
      "source": [
        "plot_multiple_distributed_forecasts(train_data,train_labels, model2.predict(train_data))"
      ],
      "execution_count": 62,
      "outputs": [
        {
          "output_type": "display_data",
          "data": {
            "image/png": "[encoded data removed]",
            "text/plain": [
              "<Figure size 432x288 with 1 Axes>"
            ]
          },
          "metadata": {
            "tags": []
          }
        }
      ]
    },
    {
      "cell_type": "code",
      "metadata": {
        "id": "Za2S8FfOERqM",
        "colab_type": "code",
        "colab": {
          "base_uri": "https://localhost:8080/",
          "height": 269
        },
        "outputId": "7e58b576-7ec2-4567-e092-c85f8811a2f8"
      },
      "source": [
        "plot_multiple_distributed_forecasts(train_data,train_labels, model3.predict(train_data))"
      ],
      "execution_count": 63,
      "outputs": [
        {
          "output_type": "display_data",
          "data": {
            "image/png": "[encoded data removed]",
            "text/plain": [
              "<Figure size 432x288 with 1 Axes>"
            ]
          },
          "metadata": {
            "tags": []
          }
        }
      ]
    }
  ]
}